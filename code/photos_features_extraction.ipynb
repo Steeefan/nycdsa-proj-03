{
 "cells": [
  {
   "cell_type": "code",
   "execution_count": 45,
   "metadata": {
    "collapsed": true
   },
   "outputs": [],
   "source": [
    "# loading required libraries\n",
    "from scipy import ndimage\n",
    "from scipy import misc\n",
    "import matplotlib.pyplot as plt\n",
    "import numpy as np\n",
    "import math as math\n",
    "from PIL import Image, ImageFilter, ImageStat, ExifTags\n",
    "import os\n",
    "import glob"
   ]
  },
  {
   "cell_type": "code",
   "execution_count": 38,
   "metadata": {
    "collapsed": false
   },
   "outputs": [],
   "source": [
    "# To get information from one single image\n",
    "\n",
    "#Read image\n",
    "im = Image.open( '6811957/6811957_3dad56e8bf3477b2900ca39d57df041e.jpg')\n",
    "# get images dimensions\n",
    "width, height = im.size\n",
    "# get rgb value\n",
    "rgb = np.array(im).mean(axis=(0,1))\n",
    "# get brightness\n",
    "def brightness(im):\n",
    "   stat = ImageStat.Stat(im)\n",
    "   gs = (math.sqrt(0.241*(r**2) + 0.691*(g**2) + 0.068*(b**2)) \n",
    "         for r,g,b in im.getdata())\n",
    "   return sum(gs)/stat.count[0]\n",
    "bri = brightness(im)\n",
    "# write to a csv\n",
    "with open('photo_features.csv', 'a') as file:\n",
    "    file.write('6811957,6811957_3dad56e8bf3477b2900ca39d57df041e,%f,%f,%f,%f,%f,%f\\n'%(width, height, rgb[0], rgb[1], rgb[2], bri))"
   ]
  },
  {
   "cell_type": "code",
   "execution_count": null,
   "metadata": {
    "collapsed": true
   },
   "outputs": [],
   "source": [
    "######################## Script for processing photos in batches ################################"
   ]
  },
  {
   "cell_type": "code",
   "execution_count": null,
   "metadata": {
    "collapsed": true
   },
   "outputs": [],
   "source": [
    "# initialize file to save photos stats into\n",
    "with open('photo_features.csv', 'a') as file:\n",
    "        file.write('listing_id,photo_id,width,height,r,g,b,brightness\\n')"
   ]
  },
  {
   "cell_type": "code",
   "execution_count": 93,
   "metadata": {
    "collapsed": false
   },
   "outputs": [],
   "source": [
    "# script for batch processing:\n",
    "# this codes assumes the root to be inside a directory where each folder corresponds to a listing id\n",
    "import sys\n",
    "import os.path\n",
    "\n",
    "# get a list of names for each listing_id\n",
    "listing_ids = glob.glob('[0-9]*') # filters down a list with only directories which are numbers-Listing id\n",
    "\n",
    "for listing in listing_ids[1:]:\n",
    "    try:\n",
    "        listing_id = listing\n",
    "        # extract only images with jpg extension\n",
    "        photos = glob.glob('./%i/*.jpg'%(int(listing)))\n",
    "        for photo in photos: \n",
    "            try:\n",
    "                im = Image.open(photo)\n",
    "                # get images dimensions\n",
    "                width, height = im.size\n",
    "                # get rgb value\n",
    "                rgb = np.array(im).mean(axis=(0,1))\n",
    "                # get brightness\n",
    "                bri = brightness(im)\n",
    "                # save information to csv. 'a' stands for append\n",
    "                with open('photo_features.csv', 'a') as file:\n",
    "                    file.write('%s,%s,%f,%f,%f,%f,%f,%f\\n'%(listing_id,photo,width, height, rgb[0], rgb[1], rgb[2], bri))\n",
    "            except IOError, e:\n",
    "                # Report error, and then skip to the next argument\n",
    "                print \"Problem opening\", filepath, \":\", e\n",
    "                continue\n",
    "    except IOError, e:\n",
    "        print \"Problem opening\", listing_id, \":\", e\n",
    "        continue"
   ]
  },
  {
   "cell_type": "code",
   "execution_count": null,
   "metadata": {
    "collapsed": true
   },
   "outputs": [],
   "source": []
  }
 ],
 "metadata": {
  "anaconda-cloud": {},
  "kernelspec": {
   "display_name": "Python [default]",
   "language": "python",
   "name": "python2"
  },
  "language_info": {
   "codemirror_mode": {
    "name": "ipython",
    "version": 2
   },
   "file_extension": ".py",
   "mimetype": "text/x-python",
   "name": "python",
   "nbconvert_exporter": "python",
   "pygments_lexer": "ipython2",
   "version": "2.7.12"
  }
 },
 "nbformat": 4,
 "nbformat_minor": 1
}
