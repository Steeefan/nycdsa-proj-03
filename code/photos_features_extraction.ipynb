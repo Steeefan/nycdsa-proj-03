{
 "cells": [
  {
   "cell_type": "code",
   "execution_count": 1,
   "metadata": {
    "collapsed": false
   },
   "outputs": [
    {
     "ename": "ImportError",
     "evalue": "No module named PIL",
     "output_type": "error",
     "traceback": [
      "\u001b[0;31m---------------------------------------------------------------------------\u001b[0m",
      "\u001b[0;31mImportError\u001b[0m                               Traceback (most recent call last)",
      "\u001b[0;32m<ipython-input-1-dd70515d23cd>\u001b[0m in \u001b[0;36m<module>\u001b[0;34m()\u001b[0m\n\u001b[1;32m      5\u001b[0m \u001b[1;32mimport\u001b[0m \u001b[0mnumpy\u001b[0m \u001b[1;32mas\u001b[0m \u001b[0mnp\u001b[0m\u001b[1;33m\u001b[0m\u001b[0m\n\u001b[1;32m      6\u001b[0m \u001b[1;32mimport\u001b[0m \u001b[0mmath\u001b[0m \u001b[1;32mas\u001b[0m \u001b[0mmath\u001b[0m\u001b[1;33m\u001b[0m\u001b[0m\n\u001b[0;32m----> 7\u001b[0;31m \u001b[1;32mfrom\u001b[0m \u001b[0mPIL\u001b[0m \u001b[1;32mimport\u001b[0m \u001b[0mImage\u001b[0m\u001b[1;33m,\u001b[0m \u001b[0mImageFilter\u001b[0m\u001b[1;33m,\u001b[0m \u001b[0mImageStat\u001b[0m\u001b[1;33m,\u001b[0m \u001b[0mExifTags\u001b[0m\u001b[1;33m\u001b[0m\u001b[0m\n\u001b[0m\u001b[1;32m      8\u001b[0m \u001b[1;32mimport\u001b[0m \u001b[0mos\u001b[0m\u001b[1;33m\u001b[0m\u001b[0m\n\u001b[1;32m      9\u001b[0m \u001b[1;32mimport\u001b[0m \u001b[0mglob\u001b[0m\u001b[1;33m\u001b[0m\u001b[0m\n",
      "\u001b[0;31mImportError\u001b[0m: No module named PIL"
     ]
    }
   ],
   "source": [
    "# loading required libraries\n",
    "from scipy import ndimage\n",
    "from scipy import misc\n",
    "import matplotlib.pyplot as plt\n",
    "import numpy as np\n",
    "import math as math\n",
    "from PIL import Image, ImageFilter, ImageStat, ExifTags\n",
    "import os\n",
    "import glob"
   ]
  },
  {
   "cell_type": "code",
   "execution_count": 38,
   "metadata": {
    "collapsed": false
   },
   "outputs": [],
   "source": [
    "# To get information from one single image\n",
    "\n",
    "#Read image\n",
    "im = Image.open( '6811957/6811957_3dad56e8bf3477b2900ca39d57df041e.jpg')\n",
    "# get images dimensions\n",
    "width, height = im.size\n",
    "# get rgb value\n",
    "rgb = np.array(im).mean(axis=(0,1))\n",
    "# get brightness\n",
    "def brightness(im):\n",
    "   stat = ImageStat.Stat(im)\n",
    "   gs = (math.sqrt(0.241*(r**2) + 0.691*(g**2) + 0.068*(b**2)) \n",
    "         for r,g,b in im.getdata())\n",
    "   return sum(gs)/stat.count[0]\n",
    "bri = brightness(im)\n",
    "# write to a csv\n",
    "with open('photo_features.csv', 'a') as file:\n",
    "    file.write('6811957,6811957_3dad56e8bf3477b2900ca39d57df041e,%f,%f,%f,%f,%f,%f\\n'%(width, height, rgb[0], rgb[1], rgb[2], bri))"
   ]
  },
  {
   "cell_type": "code",
   "execution_count": null,
   "metadata": {
    "collapsed": true
   },
   "outputs": [],
   "source": [
    "######################## Script for processing photos in batches ################################"
   ]
  },
  {
   "cell_type": "code",
   "execution_count": 2,
   "metadata": {
    "collapsed": true
   },
   "outputs": [],
   "source": [
    "# initialize file to save photos stats into\n",
    "with open('photo_features.csv', 'a') as file:\n",
    "        file.write('listing_id,photo_id,width,height,r,g,b,brightness\\n')"
   ]
  },
  {
   "cell_type": "code",
   "execution_count": 3,
   "metadata": {
    "collapsed": false
   },
   "outputs": [
    {
     "ename": "NameError",
     "evalue": "name 'brightness' is not defined",
     "output_type": "error",
     "traceback": [
      "\u001b[0;31m---------------------------------------------------------------------------\u001b[0m",
      "\u001b[0;31mNameError\u001b[0m                                 Traceback (most recent call last)",
      "\u001b[0;32m<ipython-input-3-fd1b04d80720>\u001b[0m in \u001b[0;36m<module>\u001b[0;34m()\u001b[0m\n\u001b[1;32m     21\u001b[0m                 \u001b[0mrgb\u001b[0m \u001b[1;33m=\u001b[0m \u001b[0mnp\u001b[0m\u001b[1;33m.\u001b[0m\u001b[0marray\u001b[0m\u001b[1;33m(\u001b[0m\u001b[0mim\u001b[0m\u001b[1;33m)\u001b[0m\u001b[1;33m.\u001b[0m\u001b[0mmean\u001b[0m\u001b[1;33m(\u001b[0m\u001b[0maxis\u001b[0m\u001b[1;33m=\u001b[0m\u001b[1;33m(\u001b[0m\u001b[1;36m0\u001b[0m\u001b[1;33m,\u001b[0m\u001b[1;36m1\u001b[0m\u001b[1;33m)\u001b[0m\u001b[1;33m)\u001b[0m\u001b[1;33m\u001b[0m\u001b[0m\n\u001b[1;32m     22\u001b[0m                 \u001b[1;31m# get brightness\u001b[0m\u001b[1;33m\u001b[0m\u001b[1;33m\u001b[0m\u001b[0m\n\u001b[0;32m---> 23\u001b[0;31m                 \u001b[0mbri\u001b[0m \u001b[1;33m=\u001b[0m \u001b[0mbrightness\u001b[0m\u001b[1;33m(\u001b[0m\u001b[0mim\u001b[0m\u001b[1;33m)\u001b[0m\u001b[1;33m\u001b[0m\u001b[0m\n\u001b[0m\u001b[1;32m     24\u001b[0m                 \u001b[1;31m# save information to csv. 'a' stands for append\u001b[0m\u001b[1;33m\u001b[0m\u001b[1;33m\u001b[0m\u001b[0m\n\u001b[1;32m     25\u001b[0m                 \u001b[1;32mwith\u001b[0m \u001b[0mopen\u001b[0m\u001b[1;33m(\u001b[0m\u001b[1;34m'photo_features.csv'\u001b[0m\u001b[1;33m,\u001b[0m \u001b[1;34m'a'\u001b[0m\u001b[1;33m)\u001b[0m \u001b[1;32mas\u001b[0m \u001b[0mfile\u001b[0m\u001b[1;33m:\u001b[0m\u001b[1;33m\u001b[0m\u001b[0m\n",
      "\u001b[0;31mNameError\u001b[0m: name 'brightness' is not defined"
     ]
    }
   ],
   "source": [
    "# script for batch processing:\n",
    "# this codes assumes the root to be inside a directory where each folder corresponds to a listing id\n",
    "import sys\n",
    "import os.path\n",
    "os.chdir(r'J:\\Downloads\\kaggle\\images_test')\n",
    "\n",
    "# get a list of names for each listing_id\n",
    "listing_ids = glob.glob('[0-9]*') # filters down a list with only directories which are numbers-Listing id\n",
    "\n",
    "for listing in listing_ids[1:]:\n",
    "    try:\n",
    "        listing_id = listing\n",
    "        # extract only images with jpg extension\n",
    "        photos = glob.glob('./%i/*.jpg'%(int(listing)))\n",
    "        for photo in photos: \n",
    "            try:\n",
    "                im = Image.open(photo)\n",
    "                # get images dimensions\n",
    "                width, height = im.size\n",
    "                # get rgb value\n",
    "                rgb = np.array(im).mean(axis=(0,1))\n",
    "                # get brightness\n",
    "                bri = brightness(im)\n",
    "                # save information to csv. 'a' stands for append\n",
    "                with open('photo_features.csv', 'a') as file:\n",
    "                    file.write('%s,%s,%f,%f,%f,%f,%f,%f\\n'%(listing_id,photo,width, height, rgb[0], rgb[1], rgb[2], bri))\n",
    "            except IOError, e:\n",
    "                # Report error, and then skip to the next argument\n",
    "                print \"Problem opening\", filepath, \":\", e\n",
    "                continue\n",
    "    except IOError, e:\n",
    "        print \"Problem opening\", listing_id, \":\", e\n",
    "        continue"
   ]
  },
  {
   "cell_type": "code",
   "execution_count": null,
   "metadata": {
    "collapsed": true
   },
   "outputs": [],
   "source": []
  }
 ],
 "metadata": {
  "anaconda-cloud": {},
  "kernelspec": {
   "display_name": "Python [conda env:py27]",
   "language": "python",
   "name": "conda-env-py27-py"
  },
  "language_info": {
   "codemirror_mode": {
    "name": "ipython",
    "version": 2
   },
   "file_extension": ".py",
   "mimetype": "text/x-python",
   "name": "python",
   "nbconvert_exporter": "python",
   "pygments_lexer": "ipython2",
   "version": "2.7.13"
  }
 },
 "nbformat": 4,
 "nbformat_minor": 1
}
