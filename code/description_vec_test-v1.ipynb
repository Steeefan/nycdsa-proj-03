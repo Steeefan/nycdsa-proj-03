{
 "cells": [
  {
   "cell_type": "code",
   "execution_count": 1,
   "metadata": {
    "collapsed": false
   },
   "outputs": [],
   "source": [
    "import pandas as pd\n",
    "full_df = pd.read_csv('test-v5.csv')\n",
    "\n",
    "import numpy as np # linear algebra\n",
    "import pandas as pd # data processing, CSV file I/O (e.g. pd.read_csv)\n",
    "import numpy as np\n",
    "import pandas as pd\n",
    "import re\n",
    "from sklearn.feature_extraction.text import CountVectorizer\n",
    "from sklearn.metrics.pairwise import euclidean_distances\n",
    "\n",
    "import nltk\n",
    "from nltk.tag import pos_tag\n",
    "from nltk import word_tokenize\n",
    "from nltk.corpus import stopwords\n",
    "stop = stopwords.words('english')\n",
    "def cleaning_text(sentence):\n",
    "    sentence = str(sentence)\n",
    "    sentence=sentence.lower()\n",
    "    sentence=re.sub('[^\\w\\s]',' ', sentence) #removes punctuations\n",
    "    sentence=re.sub('_',' ', sentence) #removes punctuations\n",
    "    sentence=re.sub('\\d+',' ', sentence) #removes digits\n",
    "    cleaned=' '.join([w for w in sentence.split() if not w in stop]) # removes english stopwords\n",
    "    cleaned=' '.join([w for w , pos in pos_tag(cleaned.split()) if (pos == 'NN' or pos=='JJ' or pos=='JJR' or pos=='JJS' )])\n",
    "    \n",
    "#selecting only nouns and adjectives\n",
    "    cleaned=' '.join([w for w in cleaned.split() if not len(w)<=2 ]) #removes single lettered words and digits\n",
    "    cleaned=cleaned.strip()\n",
    "    return cleaned\n",
    "\t  \n",
    "full_df['cleaned'] = full_df['description'].apply(lambda x: cleaning_text(x))"
   ]
  },
  {
   "cell_type": "code",
   "execution_count": 2,
   "metadata": {
    "collapsed": false
   },
   "outputs": [
    {
     "data": {
      "text/html": [
       "<div>\n",
       "<table border=\"1\" class=\"dataframe\">\n",
       "  <thead>\n",
       "    <tr style=\"text-align: right;\">\n",
       "      <th></th>\n",
       "      <th>aptID</th>\n",
       "      <th>bathrooms</th>\n",
       "      <th>bedrooms</th>\n",
       "      <th>building_id</th>\n",
       "      <th>created</th>\n",
       "      <th>description</th>\n",
       "      <th>display_address</th>\n",
       "      <th>latitude</th>\n",
       "      <th>longitude</th>\n",
       "      <th>listing_id</th>\n",
       "      <th>...</th>\n",
       "      <th>fireplace</th>\n",
       "      <th>roof_deck</th>\n",
       "      <th>outdoor_space</th>\n",
       "      <th>high_speed_internet</th>\n",
       "      <th>balcony</th>\n",
       "      <th>swimming_pool</th>\n",
       "      <th>garden_or_patio</th>\n",
       "      <th>wheelchair_access</th>\n",
       "      <th>common_outdoor_space</th>\n",
       "      <th>cleaned</th>\n",
       "    </tr>\n",
       "  </thead>\n",
       "  <tbody>\n",
       "    <tr>\n",
       "      <th>0</th>\n",
       "      <td>0</td>\n",
       "      <td>1.0</td>\n",
       "      <td>1</td>\n",
       "      <td>79780be1514f645d7e6be99a3de696c5</td>\n",
       "      <td>2016-06-11 05:29:00</td>\n",
       "      <td>Large with awesome terrace--accessible via bed...</td>\n",
       "      <td>Suffolk Street</td>\n",
       "      <td>40.7185</td>\n",
       "      <td>-73.9865</td>\n",
       "      <td>7142618</td>\n",
       "      <td>...</td>\n",
       "      <td>0</td>\n",
       "      <td>0</td>\n",
       "      <td>1</td>\n",
       "      <td>0</td>\n",
       "      <td>0</td>\n",
       "      <td>0</td>\n",
       "      <td>0</td>\n",
       "      <td>0</td>\n",
       "      <td>0</td>\n",
       "      <td>large awesome terrace accessible bedroom livin...</td>\n",
       "    </tr>\n",
       "    <tr>\n",
       "      <th>1</th>\n",
       "      <td>1</td>\n",
       "      <td>1.0</td>\n",
       "      <td>2</td>\n",
       "      <td>NaN</td>\n",
       "      <td>2016-06-24 06:36:00</td>\n",
       "      <td>Prime Soho - between Bleecker and Houston - Ne...</td>\n",
       "      <td>Thompson Street</td>\n",
       "      <td>40.7278</td>\n",
       "      <td>-74.0000</td>\n",
       "      <td>7210040</td>\n",
       "      <td>...</td>\n",
       "      <td>0</td>\n",
       "      <td>0</td>\n",
       "      <td>0</td>\n",
       "      <td>0</td>\n",
       "      <td>0</td>\n",
       "      <td>0</td>\n",
       "      <td>0</td>\n",
       "      <td>0</td>\n",
       "      <td>0</td>\n",
       "      <td>prime soho bleecker houston stainless steel ma...</td>\n",
       "    </tr>\n",
       "    <tr>\n",
       "      <th>2</th>\n",
       "      <td>2</td>\n",
       "      <td>1.0</td>\n",
       "      <td>0</td>\n",
       "      <td>NaN</td>\n",
       "      <td>2016-06-17 01:23:00</td>\n",
       "      <td>Spacious studio in Prime Location. Cleanbuildi...</td>\n",
       "      <td>Sullivan Street</td>\n",
       "      <td>40.7260</td>\n",
       "      <td>-74.0026</td>\n",
       "      <td>7174566</td>\n",
       "      <td>...</td>\n",
       "      <td>0</td>\n",
       "      <td>0</td>\n",
       "      <td>0</td>\n",
       "      <td>0</td>\n",
       "      <td>0</td>\n",
       "      <td>0</td>\n",
       "      <td>0</td>\n",
       "      <td>0</td>\n",
       "      <td>0</td>\n",
       "      <td>spacious studio prime location management supe...</td>\n",
       "    </tr>\n",
       "    <tr>\n",
       "      <th>3</th>\n",
       "      <td>3</td>\n",
       "      <td>1.0</td>\n",
       "      <td>2</td>\n",
       "      <td>f9c826104b91d868e69bd25746448c0c</td>\n",
       "      <td>2016-06-21 05:06:00</td>\n",
       "      <td>For immediate access call Bryan.&lt;br /&gt;&lt;br /&gt;Bo...</td>\n",
       "      <td>Jones Street</td>\n",
       "      <td>40.7321</td>\n",
       "      <td>-74.0028</td>\n",
       "      <td>7191391</td>\n",
       "      <td>...</td>\n",
       "      <td>0</td>\n",
       "      <td>0</td>\n",
       "      <td>0</td>\n",
       "      <td>0</td>\n",
       "      <td>0</td>\n",
       "      <td>0</td>\n",
       "      <td>0</td>\n",
       "      <td>0</td>\n",
       "      <td>0</td>\n",
       "      <td>immediate access call bryan bond new york real...</td>\n",
       "    </tr>\n",
       "    <tr>\n",
       "      <th>4</th>\n",
       "      <td>5</td>\n",
       "      <td>1.0</td>\n",
       "      <td>1</td>\n",
       "      <td>81062936e12ee5fa6cd2b965698e17d5</td>\n",
       "      <td>2016-06-16 07:24:00</td>\n",
       "      <td>Beautiful TRUE 1 bedroom in a luxury building ...</td>\n",
       "      <td>Exchange Place</td>\n",
       "      <td>40.7054</td>\n",
       "      <td>-74.0095</td>\n",
       "      <td>7171695</td>\n",
       "      <td>...</td>\n",
       "      <td>0</td>\n",
       "      <td>1</td>\n",
       "      <td>0</td>\n",
       "      <td>1</td>\n",
       "      <td>0</td>\n",
       "      <td>0</td>\n",
       "      <td>0</td>\n",
       "      <td>1</td>\n",
       "      <td>0</td>\n",
       "      <td>beautiful true bedroom luxury financial distri...</td>\n",
       "    </tr>\n",
       "  </tbody>\n",
       "</table>\n",
       "<p>5 rows × 48 columns</p>\n",
       "</div>"
      ],
      "text/plain": [
       "   aptID  bathrooms  bedrooms                       building_id  \\\n",
       "0      0        1.0         1  79780be1514f645d7e6be99a3de696c5   \n",
       "1      1        1.0         2                               NaN   \n",
       "2      2        1.0         0                               NaN   \n",
       "3      3        1.0         2  f9c826104b91d868e69bd25746448c0c   \n",
       "4      5        1.0         1  81062936e12ee5fa6cd2b965698e17d5   \n",
       "\n",
       "               created                                        description  \\\n",
       "0  2016-06-11 05:29:00  Large with awesome terrace--accessible via bed...   \n",
       "1  2016-06-24 06:36:00  Prime Soho - between Bleecker and Houston - Ne...   \n",
       "2  2016-06-17 01:23:00  Spacious studio in Prime Location. Cleanbuildi...   \n",
       "3  2016-06-21 05:06:00  For immediate access call Bryan.<br /><br />Bo...   \n",
       "4  2016-06-16 07:24:00  Beautiful TRUE 1 bedroom in a luxury building ...   \n",
       "\n",
       "   display_address  latitude  longitude  listing_id  \\\n",
       "0   Suffolk Street   40.7185   -73.9865     7142618   \n",
       "1  Thompson Street   40.7278   -74.0000     7210040   \n",
       "2  Sullivan Street   40.7260   -74.0026     7174566   \n",
       "3     Jones Street   40.7321   -74.0028     7191391   \n",
       "4   Exchange Place   40.7054   -74.0095     7171695   \n",
       "\n",
       "                         ...                         fireplace  roof_deck  \\\n",
       "0                        ...                                 0          0   \n",
       "1                        ...                                 0          0   \n",
       "2                        ...                                 0          0   \n",
       "3                        ...                                 0          0   \n",
       "4                        ...                                 0          1   \n",
       "\n",
       "  outdoor_space  high_speed_internet  balcony  swimming_pool garden_or_patio  \\\n",
       "0             1                    0        0              0               0   \n",
       "1             0                    0        0              0               0   \n",
       "2             0                    0        0              0               0   \n",
       "3             0                    0        0              0               0   \n",
       "4             0                    1        0              0               0   \n",
       "\n",
       "   wheelchair_access common_outdoor_space  \\\n",
       "0                  0                    0   \n",
       "1                  0                    0   \n",
       "2                  0                    0   \n",
       "3                  0                    0   \n",
       "4                  1                    0   \n",
       "\n",
       "                                             cleaned  \n",
       "0  large awesome terrace accessible bedroom livin...  \n",
       "1  prime soho bleecker houston stainless steel ma...  \n",
       "2  spacious studio prime location management supe...  \n",
       "3  immediate access call bryan bond new york real...  \n",
       "4  beautiful true bedroom luxury financial distri...  \n",
       "\n",
       "[5 rows x 48 columns]"
      ]
     },
     "execution_count": 2,
     "metadata": {},
     "output_type": "execute_result"
    }
   ],
   "source": [
    "full_df.head()"
   ]
  },
  {
   "cell_type": "code",
   "execution_count": 3,
   "metadata": {
    "collapsed": false
   },
   "outputs": [
    {
     "data": {
      "text/plain": [
       "aptID                   74659\n",
       "bathrooms               74659\n",
       "bedrooms                74659\n",
       "building_id             62281\n",
       "created                 74659\n",
       "description             69434\n",
       "display_address         74434\n",
       "latitude                74659\n",
       "longitude               74659\n",
       "listing_id              74659\n",
       "manager_id              74659\n",
       "price                   74659\n",
       "street_address          74646\n",
       "created.Day             74659\n",
       "created.Month           74659\n",
       "created.Year            74659\n",
       "created.Date            74659\n",
       "created.WDay            74659\n",
       "created.WDayLbl         74659\n",
       "created.Week            74659\n",
       "created.Hour            74659\n",
       "created.Yday            74659\n",
       "created.MWeek           74659\n",
       "photoCount              74659\n",
       "featureCount            74659\n",
       "dining_room             74659\n",
       "pre_war                 74659\n",
       "laundry_in_building     74659\n",
       "dishwasher              74659\n",
       "hardwood_floors         74659\n",
       "dogs                    74659\n",
       "cats                    74659\n",
       "doorman                 74659\n",
       "elevator                74659\n",
       "no_fee                  74659\n",
       "fitness_center          74659\n",
       "laundry_in_unit         74659\n",
       "loft                    74659\n",
       "fireplace               74659\n",
       "roof_deck               74659\n",
       "outdoor_space           74659\n",
       "high_speed_internet     74659\n",
       "balcony                 74659\n",
       "swimming_pool           74659\n",
       "garden_or_patio         74659\n",
       "wheelchair_access       74659\n",
       "common_outdoor_space    74659\n",
       "cleaned                 74659\n",
       "dtype: int64"
      ]
     },
     "execution_count": 3,
     "metadata": {},
     "output_type": "execute_result"
    }
   ],
   "source": [
    "full_df.count()"
   ]
  },
  {
   "cell_type": "code",
   "execution_count": 5,
   "metadata": {
    "collapsed": false
   },
   "outputs": [
    {
     "data": {
      "text/html": [
       "<div>\n",
       "<table border=\"1\" class=\"dataframe\">\n",
       "  <thead>\n",
       "    <tr style=\"text-align: right;\">\n",
       "      <th></th>\n",
       "      <th>aptID</th>\n",
       "      <th>cleaned</th>\n",
       "    </tr>\n",
       "  </thead>\n",
       "  <tbody>\n",
       "    <tr>\n",
       "      <th>0</th>\n",
       "      <td>0</td>\n",
       "      <td>large awesome terrace accessible bedroom livin...</td>\n",
       "    </tr>\n",
       "    <tr>\n",
       "      <th>1</th>\n",
       "      <td>1</td>\n",
       "      <td>prime soho bleecker houston stainless steel ma...</td>\n",
       "    </tr>\n",
       "    <tr>\n",
       "      <th>2</th>\n",
       "      <td>2</td>\n",
       "      <td>spacious studio prime location management supe...</td>\n",
       "    </tr>\n",
       "    <tr>\n",
       "      <th>3</th>\n",
       "      <td>3</td>\n",
       "      <td>immediate access call bryan bond new york real...</td>\n",
       "    </tr>\n",
       "    <tr>\n",
       "      <th>4</th>\n",
       "      <td>5</td>\n",
       "      <td>beautiful true bedroom luxury financial distri...</td>\n",
       "    </tr>\n",
       "  </tbody>\n",
       "</table>\n",
       "</div>"
      ],
      "text/plain": [
       "   aptID                                            cleaned\n",
       "0      0  large awesome terrace accessible bedroom livin...\n",
       "1      1  prime soho bleecker houston stainless steel ma...\n",
       "2      2  spacious studio prime location management supe...\n",
       "3      3  immediate access call bryan bond new york real...\n",
       "4      5  beautiful true bedroom luxury financial distri..."
      ]
     },
     "execution_count": 5,
     "metadata": {},
     "output_type": "execute_result"
    }
   ],
   "source": [
    "trimDF = full_df[['aptID','cleaned']]\n",
    "trimDF.head()"
   ]
  },
  {
   "cell_type": "code",
   "execution_count": 6,
   "metadata": {
    "collapsed": true
   },
   "outputs": [],
   "source": [
    "trimDF.to_csv('trimTEST.csv')"
   ]
  },
  {
   "cell_type": "code",
   "execution_count": 7,
   "metadata": {
    "collapsed": false
   },
   "outputs": [
    {
     "name": "stdout",
     "output_type": "stream",
     "text": [
      "Enter the name of your input file: trimTEST.csv\n",
      "Enter the name of your output file: trimTEST.txt\n",
      "File Successfully written.\n"
     ]
    }
   ],
   "source": [
    "csv_file = raw_input('Enter the name of your input file: ')\n",
    "txt_file = raw_input('Enter the name of your output file: ')\n",
    "\n",
    "text_list = []\n",
    "\n",
    "with open(csv_file, \"r\") as my_input_file:\n",
    "    for line in my_input_file:\n",
    "        line = line.split(\",\", 2)\n",
    "        text_list.append(\" \".join(line))\n",
    "\n",
    "with open(txt_file, \"w\") as my_output_file:\n",
    "    my_output_file.write(\"#1\\n\")\n",
    "    my_output_file.write(\"double({},{})\\n\".format(len(text_list), 2))\n",
    "    for line in text_list:\n",
    "        my_output_file.write(\"  \" + line)\n",
    "    print('File Successfully written.')"
   ]
  },
  {
   "cell_type": "code",
   "execution_count": 9,
   "metadata": {
    "collapsed": true
   },
   "outputs": [],
   "source": [
    "from gensim.models import doc2vec\n",
    "import nltk\n",
    "import re\n",
    "\n",
    "def split_sentence(sentence):\n",
    "    words = re.split('\\W+', sentence.lower())\n",
    "    return [word for word in words if word != \"\"]\n",
    "\n",
    "class MyDocs(object):\n",
    "    def __iter__(self):\n",
    "        for i, text in enumerate(open(\"trimTEST.txt\")):\n",
    "            yield doc2vec.LabeledSentence(words=split_sentence(text), tags=['%s' % i])\n",
    "\n",
    "# Train the doc2vec model\n",
    "mydocs = MyDocs()\n",
    "model = doc2vec.Doc2Vec(mydocs, size = 200, window = 8, min_count = 5, workers = 4)\n",
    "model.save('description_test.model')"
   ]
  },
  {
   "cell_type": "code",
   "execution_count": 10,
   "metadata": {
    "collapsed": false
   },
   "outputs": [
    {
     "data": {
      "text/plain": [
       "74659"
      ]
     },
     "execution_count": 10,
     "metadata": {},
     "output_type": "execute_result"
    }
   ],
   "source": [
    "len(model.docvecs)"
   ]
  },
  {
   "cell_type": "code",
   "execution_count": 123,
   "metadata": {
    "collapsed": false
   },
   "outputs": [
    {
     "data": {
      "text/plain": [
       "49352"
      ]
     },
     "execution_count": 123,
     "metadata": {},
     "output_type": "execute_result"
    }
   ],
   "source": [
    "len(test)"
   ]
  },
  {
   "cell_type": "code",
   "execution_count": 11,
   "metadata": {
    "collapsed": true
   },
   "outputs": [],
   "source": [
    "model = doc2vec.Doc2Vec.load('description_test.model')"
   ]
  },
  {
   "cell_type": "code",
   "execution_count": 31,
   "metadata": {
    "collapsed": false
   },
   "outputs": [
    {
     "name": "stdout",
     "output_type": "stream",
     "text": [
      "[('ultra', 0.4796402156352997), ('penthouse', 0.4264823794364929), ('gorgeous', 0.40383094549179077)]\n"
     ]
    }
   ],
   "source": [
    "print model.most_similar(positive=[\"bedroom\"], negative=[\"small\"], topn=3)"
   ]
  },
  {
   "cell_type": "code",
   "execution_count": 12,
   "metadata": {
    "collapsed": false
   },
   "outputs": [
    {
     "data": {
      "text/html": [
       "<div>\n",
       "<table border=\"1\" class=\"dataframe\">\n",
       "  <thead>\n",
       "    <tr style=\"text-align: right;\">\n",
       "      <th></th>\n",
       "      <th>Unnamed: 0</th>\n",
       "      <th>aptID</th>\n",
       "      <th>cleaned</th>\n",
       "      <th>docvecs</th>\n",
       "    </tr>\n",
       "  </thead>\n",
       "  <tbody>\n",
       "    <tr>\n",
       "      <th>0</th>\n",
       "      <td>0</td>\n",
       "      <td>0</td>\n",
       "      <td>large awesome terrace accessible bedroom livin...</td>\n",
       "      <td>[-0.0028886, 0.0437069, -0.0148692, 0.0542286,...</td>\n",
       "    </tr>\n",
       "    <tr>\n",
       "      <th>1</th>\n",
       "      <td>1</td>\n",
       "      <td>1</td>\n",
       "      <td>prime soho bleecker houston stainless steel ma...</td>\n",
       "      <td>[0.0101035, 0.0087176, 0.0126455, 0.00310056, ...</td>\n",
       "    </tr>\n",
       "    <tr>\n",
       "      <th>2</th>\n",
       "      <td>2</td>\n",
       "      <td>2</td>\n",
       "      <td>spacious studio prime location management supe...</td>\n",
       "      <td>[-0.0249806, 0.0270556, 0.00232058, 0.00207128...</td>\n",
       "    </tr>\n",
       "    <tr>\n",
       "      <th>3</th>\n",
       "      <td>3</td>\n",
       "      <td>3</td>\n",
       "      <td>immediate access call bryan bond new york real...</td>\n",
       "      <td>[-0.00745866, 0.0300075, -0.0172987, 0.0360009...</td>\n",
       "    </tr>\n",
       "    <tr>\n",
       "      <th>4</th>\n",
       "      <td>4</td>\n",
       "      <td>5</td>\n",
       "      <td>beautiful true bedroom luxury financial distri...</td>\n",
       "      <td>[0.00599064, -0.000611184, 0.022732, 0.0030536...</td>\n",
       "    </tr>\n",
       "  </tbody>\n",
       "</table>\n",
       "</div>"
      ],
      "text/plain": [
       "   Unnamed: 0  aptID                                            cleaned  \\\n",
       "0           0      0  large awesome terrace accessible bedroom livin...   \n",
       "1           1      1  prime soho bleecker houston stainless steel ma...   \n",
       "2           2      2  spacious studio prime location management supe...   \n",
       "3           3      3  immediate access call bryan bond new york real...   \n",
       "4           4      5  beautiful true bedroom luxury financial distri...   \n",
       "\n",
       "                                             docvecs  \n",
       "0  [-0.0028886, 0.0437069, -0.0148692, 0.0542286,...  \n",
       "1  [0.0101035, 0.0087176, 0.0126455, 0.00310056, ...  \n",
       "2  [-0.0249806, 0.0270556, 0.00232058, 0.00207128...  \n",
       "3  [-0.00745866, 0.0300075, -0.0172987, 0.0360009...  \n",
       "4  [0.00599064, -0.000611184, 0.022732, 0.0030536...  "
      ]
     },
     "execution_count": 12,
     "metadata": {},
     "output_type": "execute_result"
    }
   ],
   "source": [
    "test = pd.read_csv('trimTEST.csv')\n",
    "test['docvecs'] = model.docvecs\n",
    "test.head()"
   ]
  },
  {
   "cell_type": "code",
   "execution_count": 13,
   "metadata": {
    "collapsed": false
   },
   "outputs": [
    {
     "data": {
      "text/html": [
       "<div>\n",
       "<table border=\"1\" class=\"dataframe\">\n",
       "  <thead>\n",
       "    <tr style=\"text-align: right;\">\n",
       "      <th></th>\n",
       "      <th>Unnamed: 0</th>\n",
       "      <th>aptID</th>\n",
       "      <th>cleaned</th>\n",
       "      <th>docvecs</th>\n",
       "      <th>sum_vec</th>\n",
       "    </tr>\n",
       "  </thead>\n",
       "  <tbody>\n",
       "    <tr>\n",
       "      <th>0</th>\n",
       "      <td>0</td>\n",
       "      <td>0</td>\n",
       "      <td>large awesome terrace accessible bedroom livin...</td>\n",
       "      <td>[-0.0028886, 0.0437069, -0.0148692, 0.0542286,...</td>\n",
       "      <td>-0.223342</td>\n",
       "    </tr>\n",
       "    <tr>\n",
       "      <th>1</th>\n",
       "      <td>1</td>\n",
       "      <td>1</td>\n",
       "      <td>prime soho bleecker houston stainless steel ma...</td>\n",
       "      <td>[0.0101035, 0.0087176, 0.0126455, 0.00310056, ...</td>\n",
       "      <td>0.206371</td>\n",
       "    </tr>\n",
       "    <tr>\n",
       "      <th>2</th>\n",
       "      <td>2</td>\n",
       "      <td>2</td>\n",
       "      <td>spacious studio prime location management supe...</td>\n",
       "      <td>[-0.0249806, 0.0270556, 0.00232058, 0.00207128...</td>\n",
       "      <td>-0.215066</td>\n",
       "    </tr>\n",
       "    <tr>\n",
       "      <th>3</th>\n",
       "      <td>3</td>\n",
       "      <td>3</td>\n",
       "      <td>immediate access call bryan bond new york real...</td>\n",
       "      <td>[-0.00745866, 0.0300075, -0.0172987, 0.0360009...</td>\n",
       "      <td>-0.171405</td>\n",
       "    </tr>\n",
       "    <tr>\n",
       "      <th>4</th>\n",
       "      <td>4</td>\n",
       "      <td>5</td>\n",
       "      <td>beautiful true bedroom luxury financial distri...</td>\n",
       "      <td>[0.00599064, -0.000611184, 0.022732, 0.0030536...</td>\n",
       "      <td>-0.300729</td>\n",
       "    </tr>\n",
       "  </tbody>\n",
       "</table>\n",
       "</div>"
      ],
      "text/plain": [
       "   Unnamed: 0  aptID                                            cleaned  \\\n",
       "0           0      0  large awesome terrace accessible bedroom livin...   \n",
       "1           1      1  prime soho bleecker houston stainless steel ma...   \n",
       "2           2      2  spacious studio prime location management supe...   \n",
       "3           3      3  immediate access call bryan bond new york real...   \n",
       "4           4      5  beautiful true bedroom luxury financial distri...   \n",
       "\n",
       "                                             docvecs   sum_vec  \n",
       "0  [-0.0028886, 0.0437069, -0.0148692, 0.0542286,... -0.223342  \n",
       "1  [0.0101035, 0.0087176, 0.0126455, 0.00310056, ...  0.206371  \n",
       "2  [-0.0249806, 0.0270556, 0.00232058, 0.00207128... -0.215066  \n",
       "3  [-0.00745866, 0.0300075, -0.0172987, 0.0360009... -0.171405  \n",
       "4  [0.00599064, -0.000611184, 0.022732, 0.0030536... -0.300729  "
      ]
     },
     "execution_count": 13,
     "metadata": {},
     "output_type": "execute_result"
    }
   ],
   "source": [
    "test['sum_vec'] = test['docvecs'].apply(lambda v: sum(v))\n",
    "test.head()"
   ]
  },
  {
   "cell_type": "code",
   "execution_count": 14,
   "metadata": {
    "collapsed": false
   },
   "outputs": [
    {
     "data": {
      "text/html": [
       "<div>\n",
       "<table border=\"1\" class=\"dataframe\">\n",
       "  <thead>\n",
       "    <tr style=\"text-align: right;\">\n",
       "      <th></th>\n",
       "      <th>aptID</th>\n",
       "      <th>sum_vec</th>\n",
       "    </tr>\n",
       "  </thead>\n",
       "  <tbody>\n",
       "    <tr>\n",
       "      <th>0</th>\n",
       "      <td>0</td>\n",
       "      <td>-0.223342</td>\n",
       "    </tr>\n",
       "    <tr>\n",
       "      <th>1</th>\n",
       "      <td>1</td>\n",
       "      <td>0.206371</td>\n",
       "    </tr>\n",
       "    <tr>\n",
       "      <th>2</th>\n",
       "      <td>2</td>\n",
       "      <td>-0.215066</td>\n",
       "    </tr>\n",
       "    <tr>\n",
       "      <th>3</th>\n",
       "      <td>3</td>\n",
       "      <td>-0.171405</td>\n",
       "    </tr>\n",
       "    <tr>\n",
       "      <th>4</th>\n",
       "      <td>5</td>\n",
       "      <td>-0.300729</td>\n",
       "    </tr>\n",
       "  </tbody>\n",
       "</table>\n",
       "</div>"
      ],
      "text/plain": [
       "   aptID   sum_vec\n",
       "0      0 -0.223342\n",
       "1      1  0.206371\n",
       "2      2 -0.215066\n",
       "3      3 -0.171405\n",
       "4      5 -0.300729"
      ]
     },
     "execution_count": 14,
     "metadata": {},
     "output_type": "execute_result"
    }
   ],
   "source": [
    "description_vec = test[['aptID','sum_vec']]\n",
    "description_vec.head()"
   ]
  },
  {
   "cell_type": "code",
   "execution_count": 15,
   "metadata": {
    "collapsed": false
   },
   "outputs": [
    {
     "data": {
      "text/plain": [
       "74659"
      ]
     },
     "execution_count": 15,
     "metadata": {},
     "output_type": "execute_result"
    }
   ],
   "source": [
    "len(description_vec)"
   ]
  },
  {
   "cell_type": "code",
   "execution_count": 16,
   "metadata": {
    "collapsed": true
   },
   "outputs": [],
   "source": [
    "description_vec.to_csv('description_vec_test_v2.csv', index =False)"
   ]
  },
  {
   "cell_type": "code",
   "execution_count": null,
   "metadata": {
    "collapsed": true
   },
   "outputs": [],
   "source": []
  }
 ],
 "metadata": {
  "kernelspec": {
   "display_name": "Python 2",
   "language": "python",
   "name": "python2"
  },
  "language_info": {
   "codemirror_mode": {
    "name": "ipython",
    "version": 2
   },
   "file_extension": ".py",
   "mimetype": "text/x-python",
   "name": "python",
   "nbconvert_exporter": "python",
   "pygments_lexer": "ipython2",
   "version": "2.7.13"
  }
 },
 "nbformat": 4,
 "nbformat_minor": 2
}
