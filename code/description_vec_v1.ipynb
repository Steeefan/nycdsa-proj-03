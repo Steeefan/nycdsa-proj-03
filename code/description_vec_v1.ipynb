{
 "cells": [
  {
   "cell_type": "code",
   "execution_count": 12,
   "metadata": {
    "collapsed": false
   },
   "outputs": [
    {
     "data": {
      "text/html": [
       "<div>\n",
       "<table border=\"1\" class=\"dataframe\">\n",
       "  <thead>\n",
       "    <tr style=\"text-align: right;\">\n",
       "      <th></th>\n",
       "      <th>Unnamed: 0</th>\n",
       "      <th>Unnamed: 0.1</th>\n",
       "      <th>Apartment</th>\n",
       "      <th>Bathrooms</th>\n",
       "      <th>Bedrooms</th>\n",
       "      <th>Building_ID</th>\n",
       "      <th>Date_Created</th>\n",
       "      <th>Description</th>\n",
       "      <th>Address</th>\n",
       "      <th>latitude</th>\n",
       "      <th>...</th>\n",
       "      <th>Date_Created.Year</th>\n",
       "      <th>Date_Created.Date</th>\n",
       "      <th>Date_Created.WDayLbl</th>\n",
       "      <th>Date_Created.Week</th>\n",
       "      <th>Date_Created.Quarter</th>\n",
       "      <th>Date_Created.Hour</th>\n",
       "      <th>Date_Created.WeekofMonth</th>\n",
       "      <th>Date_Created.YDay</th>\n",
       "      <th>cleaned</th>\n",
       "      <th>Predicted_des</th>\n",
       "    </tr>\n",
       "  </thead>\n",
       "  <tbody>\n",
       "    <tr>\n",
       "      <th>0</th>\n",
       "      <td>0</td>\n",
       "      <td>1</td>\n",
       "      <td>10.0</td>\n",
       "      <td>1.5</td>\n",
       "      <td>3</td>\n",
       "      <td>53a5b119ba8f7b61d4e010512e0dfc85</td>\n",
       "      <td>2016-06-24 07:54:00</td>\n",
       "      <td>A Brand New 3 Bedroom 1.5 bath ApartmentEnjoy ...</td>\n",
       "      <td>Metropolitan Avenue</td>\n",
       "      <td>40.7145</td>\n",
       "      <td>...</td>\n",
       "      <td>2016.0</td>\n",
       "      <td>2016-06-24</td>\n",
       "      <td>Fri</td>\n",
       "      <td>26.0</td>\n",
       "      <td>2.0</td>\n",
       "      <td>7.0</td>\n",
       "      <td>4.0</td>\n",
       "      <td>176.0</td>\n",
       "      <td>brand new bedroom bath apartmentenjoy apartmen...</td>\n",
       "      <td>medium</td>\n",
       "    </tr>\n",
       "    <tr>\n",
       "      <th>1</th>\n",
       "      <td>1</td>\n",
       "      <td>2</td>\n",
       "      <td>10000.0</td>\n",
       "      <td>1.0</td>\n",
       "      <td>2</td>\n",
       "      <td>c5c8a357cba207596b04d1afd1e4f130</td>\n",
       "      <td>2016-06-12 12:19:00</td>\n",
       "      <td></td>\n",
       "      <td>Columbus Avenue</td>\n",
       "      <td>40.7947</td>\n",
       "      <td>...</td>\n",
       "      <td>2016.0</td>\n",
       "      <td>2016-06-12</td>\n",
       "      <td>Sun</td>\n",
       "      <td>24.0</td>\n",
       "      <td>2.0</td>\n",
       "      <td>12.0</td>\n",
       "      <td>2.0</td>\n",
       "      <td>164.0</td>\n",
       "      <td>NaN</td>\n",
       "      <td>low</td>\n",
       "    </tr>\n",
       "    <tr>\n",
       "      <th>2</th>\n",
       "      <td>2</td>\n",
       "      <td>3</td>\n",
       "      <td>100004.0</td>\n",
       "      <td>1.0</td>\n",
       "      <td>1</td>\n",
       "      <td>c3ba40552e2120b0acfc3cb5730bb2aa</td>\n",
       "      <td>2016-04-17 03:26:00</td>\n",
       "      <td>Top Top West Village location, beautiful Pre-w...</td>\n",
       "      <td>W 13 Street</td>\n",
       "      <td>40.7388</td>\n",
       "      <td>...</td>\n",
       "      <td>2016.0</td>\n",
       "      <td>2016-04-17</td>\n",
       "      <td>Sun</td>\n",
       "      <td>16.0</td>\n",
       "      <td>2.0</td>\n",
       "      <td>3.0</td>\n",
       "      <td>3.0</td>\n",
       "      <td>108.0</td>\n",
       "      <td>top top west village location beautiful pre wa...</td>\n",
       "      <td>low</td>\n",
       "    </tr>\n",
       "    <tr>\n",
       "      <th>3</th>\n",
       "      <td>3</td>\n",
       "      <td>4</td>\n",
       "      <td>100007.0</td>\n",
       "      <td>1.0</td>\n",
       "      <td>1</td>\n",
       "      <td>28d9ad350afeaab8027513a3e52ac8d5</td>\n",
       "      <td>2016-04-18 02:22:00</td>\n",
       "      <td>Building Amenities - Garage - Garden - fitness...</td>\n",
       "      <td>East 49th Street</td>\n",
       "      <td>40.7539</td>\n",
       "      <td>...</td>\n",
       "      <td>2016.0</td>\n",
       "      <td>2016-04-18</td>\n",
       "      <td>Mon</td>\n",
       "      <td>16.0</td>\n",
       "      <td>2.0</td>\n",
       "      <td>2.0</td>\n",
       "      <td>3.0</td>\n",
       "      <td>109.0</td>\n",
       "      <td>building garden fitness room laundry room roof...</td>\n",
       "      <td>low</td>\n",
       "    </tr>\n",
       "    <tr>\n",
       "      <th>4</th>\n",
       "      <td>4</td>\n",
       "      <td>5</td>\n",
       "      <td>100013.0</td>\n",
       "      <td>1.0</td>\n",
       "      <td>4</td>\n",
       "      <td>NaN</td>\n",
       "      <td>2016-04-28 01:32:00</td>\n",
       "      <td>Beautifully renovated 3 bedroom flex 4 bedroom...</td>\n",
       "      <td>West 143rd Street</td>\n",
       "      <td>40.8241</td>\n",
       "      <td>...</td>\n",
       "      <td>2016.0</td>\n",
       "      <td>2016-04-28</td>\n",
       "      <td>Thu</td>\n",
       "      <td>17.0</td>\n",
       "      <td>2.0</td>\n",
       "      <td>1.0</td>\n",
       "      <td>4.0</td>\n",
       "      <td>119.0</td>\n",
       "      <td>bedroom flex bedroom apartment rent available ...</td>\n",
       "      <td>low</td>\n",
       "    </tr>\n",
       "  </tbody>\n",
       "</table>\n",
       "<p>5 rows × 28 columns</p>\n",
       "</div>"
      ],
      "text/plain": [
       "  Unnamed: 0 Unnamed: 0.1  Apartment  Bathrooms Bedrooms  \\\n",
       "0          0            1       10.0        1.5        3   \n",
       "1          1            2    10000.0        1.0        2   \n",
       "2          2            3   100004.0        1.0        1   \n",
       "3          3            4   100007.0        1.0        1   \n",
       "4          4            5   100013.0        1.0        4   \n",
       "\n",
       "                        Building_ID         Date_Created  \\\n",
       "0  53a5b119ba8f7b61d4e010512e0dfc85  2016-06-24 07:54:00   \n",
       "1  c5c8a357cba207596b04d1afd1e4f130  2016-06-12 12:19:00   \n",
       "2  c3ba40552e2120b0acfc3cb5730bb2aa  2016-04-17 03:26:00   \n",
       "3  28d9ad350afeaab8027513a3e52ac8d5  2016-04-18 02:22:00   \n",
       "4                               NaN  2016-04-28 01:32:00   \n",
       "\n",
       "                                         Description              Address  \\\n",
       "0  A Brand New 3 Bedroom 1.5 bath ApartmentEnjoy ...  Metropolitan Avenue   \n",
       "1                                                         Columbus Avenue   \n",
       "2  Top Top West Village location, beautiful Pre-w...          W 13 Street   \n",
       "3  Building Amenities - Garage - Garden - fitness...     East 49th Street   \n",
       "4  Beautifully renovated 3 bedroom flex 4 bedroom...    West 143rd Street   \n",
       "\n",
       "   latitude      ...       Date_Created.Year  Date_Created.Date  \\\n",
       "0   40.7145      ...                  2016.0         2016-06-24   \n",
       "1   40.7947      ...                  2016.0         2016-06-12   \n",
       "2   40.7388      ...                  2016.0         2016-04-17   \n",
       "3   40.7539      ...                  2016.0         2016-04-18   \n",
       "4   40.8241      ...                  2016.0         2016-04-28   \n",
       "\n",
       "  Date_Created.WDayLbl Date_Created.Week Date_Created.Quarter  \\\n",
       "0                  Fri              26.0                  2.0   \n",
       "1                  Sun              24.0                  2.0   \n",
       "2                  Sun              16.0                  2.0   \n",
       "3                  Mon              16.0                  2.0   \n",
       "4                  Thu              17.0                  2.0   \n",
       "\n",
       "  Date_Created.Hour  Date_Created.WeekofMonth  Date_Created.YDay  \\\n",
       "0               7.0                       4.0              176.0   \n",
       "1              12.0                       2.0              164.0   \n",
       "2               3.0                       3.0              108.0   \n",
       "3               2.0                       3.0              109.0   \n",
       "4               1.0                       4.0              119.0   \n",
       "\n",
       "                                             cleaned Predicted_des  \n",
       "0  brand new bedroom bath apartmentenjoy apartmen...        medium  \n",
       "1                                                NaN           low  \n",
       "2  top top west village location beautiful pre wa...           low  \n",
       "3  building garden fitness room laundry room roof...           low  \n",
       "4  bedroom flex bedroom apartment rent available ...           low  \n",
       "\n",
       "[5 rows x 28 columns]"
      ]
     },
     "execution_count": 12,
     "metadata": {},
     "output_type": "execute_result"
    }
   ],
   "source": [
    "example = pd.read_csv(open('example.csv','rU'), encoding='utf-8', engine='c')\n",
    "example.head()"
   ]
  },
  {
   "cell_type": "code",
   "execution_count": 70,
   "metadata": {
    "collapsed": false
   },
   "outputs": [
    {
     "data": {
      "text/html": [
       "<div>\n",
       "<table border=\"1\" class=\"dataframe\">\n",
       "  <thead>\n",
       "    <tr style=\"text-align: right;\">\n",
       "      <th></th>\n",
       "      <th>Apartment</th>\n",
       "      <th>cleaned</th>\n",
       "      <th>Interest_Level</th>\n",
       "    </tr>\n",
       "  </thead>\n",
       "  <tbody>\n",
       "    <tr>\n",
       "      <th>0</th>\n",
       "      <td>10.0</td>\n",
       "      <td>brand new bedroom bath apartmentenjoy apartmen...</td>\n",
       "      <td>medium</td>\n",
       "    </tr>\n",
       "    <tr>\n",
       "      <th>1</th>\n",
       "      <td>10000.0</td>\n",
       "      <td>NaN</td>\n",
       "      <td>low</td>\n",
       "    </tr>\n",
       "    <tr>\n",
       "      <th>2</th>\n",
       "      <td>100004.0</td>\n",
       "      <td>top top west village location beautiful pre wa...</td>\n",
       "      <td>high</td>\n",
       "    </tr>\n",
       "    <tr>\n",
       "      <th>3</th>\n",
       "      <td>100007.0</td>\n",
       "      <td>building garden fitness room laundry room roof...</td>\n",
       "      <td>low</td>\n",
       "    </tr>\n",
       "    <tr>\n",
       "      <th>4</th>\n",
       "      <td>100013.0</td>\n",
       "      <td>bedroom flex bedroom apartment rent available ...</td>\n",
       "      <td>low</td>\n",
       "    </tr>\n",
       "  </tbody>\n",
       "</table>\n",
       "</div>"
      ],
      "text/plain": [
       "   Apartment                                            cleaned Interest_Level\n",
       "0       10.0  brand new bedroom bath apartmentenjoy apartmen...         medium\n",
       "1    10000.0                                                NaN            low\n",
       "2   100004.0  top top west village location beautiful pre wa...           high\n",
       "3   100007.0  building garden fitness room laundry room roof...            low\n",
       "4   100013.0  bedroom flex bedroom apartment rent available ...            low"
      ]
     },
     "execution_count": 70,
     "metadata": {},
     "output_type": "execute_result"
    }
   ],
   "source": [
    "trimDF = example[['Apartment','cleaned','Interest_Level']]\n",
    "trimDF.head()"
   ]
  },
  {
   "cell_type": "code",
   "execution_count": 71,
   "metadata": {
    "collapsed": true
   },
   "outputs": [],
   "source": [
    "trimDF.to_csv('trimDF.csv')"
   ]
  },
  {
   "cell_type": "code",
   "execution_count": 79,
   "metadata": {
    "collapsed": false
   },
   "outputs": [
    {
     "name": "stdout",
     "output_type": "stream",
     "text": [
      "Enter the name of your input file: trimDF.csv\n",
      "Enter the name of your output file: trimDF.txt\n",
      "File Successfully written.\n"
     ]
    }
   ],
   "source": [
    "csv_file = raw_input('Enter the name of your input file: ')\n",
    "txt_file = raw_input('Enter the name of your output file: ')\n",
    "\n",
    "text_list = []\n",
    "\n",
    "with open(csv_file, \"r\") as my_input_file:\n",
    "    for line in my_input_file:\n",
    "        line = line.split(\",\", 2)\n",
    "        text_list.append(\" \".join(line))\n",
    "\n",
    "with open(txt_file, \"w\") as my_output_file:\n",
    "    my_output_file.write(\"#1\\n\")\n",
    "    my_output_file.write(\"double({},{})\\n\".format(len(text_list), 2))\n",
    "    for line in text_list:\n",
    "        my_output_file.write(\"  \" + line)\n",
    "    print('File Successfully written.')"
   ]
  },
  {
   "cell_type": "code",
   "execution_count": 86,
   "metadata": {
    "collapsed": true
   },
   "outputs": [],
   "source": [
    "from gensim.models import doc2vec\n",
    "import nltk\n",
    "import re\n",
    "\n",
    "def split_sentence(sentence):\n",
    "    words = re.split('\\W+', sentence.lower())\n",
    "    return [word for word in words if word != \"\"]\n",
    "\n",
    "class MyDocs(object):\n",
    "    def __iter__(self):\n",
    "        for i, text in enumerate(open(\"trimDF.txt\")):\n",
    "            yield doc2vec.LabeledSentence(words=split_sentence(text), tags=['%s' % i])\n",
    "\n",
    "# Train the doc2vec model\n",
    "mydocs = MyDocs()\n",
    "model = doc2vec.Doc2Vec(mydocs, size = 200, window = 8, min_count = 5, workers = 4)\n",
    "model.save('description.model')"
   ]
  },
  {
   "cell_type": "code",
   "execution_count": 87,
   "metadata": {
    "collapsed": true
   },
   "outputs": [],
   "source": [
    "model = doc2vec.Doc2Vec.load('description.model')"
   ]
  },
  {
   "cell_type": "code",
   "execution_count": 31,
   "metadata": {
    "collapsed": false
   },
   "outputs": [
    {
     "name": "stdout",
     "output_type": "stream",
     "text": [
      "[('ultra', 0.4796402156352997), ('penthouse', 0.4264823794364929), ('gorgeous', 0.40383094549179077)]\n"
     ]
    }
   ],
   "source": [
    "print model.most_similar(positive=[\"bedroom\"], negative=[\"small\"], topn=3)"
   ]
  },
  {
   "cell_type": "code",
   "execution_count": 91,
   "metadata": {
    "collapsed": false
   },
   "outputs": [
    {
     "data": {
      "text/html": [
       "<div>\n",
       "<table border=\"1\" class=\"dataframe\">\n",
       "  <thead>\n",
       "    <tr style=\"text-align: right;\">\n",
       "      <th></th>\n",
       "      <th>Unnamed: 0</th>\n",
       "      <th>Apartment</th>\n",
       "      <th>cleaned</th>\n",
       "      <th>Interest_Level</th>\n",
       "      <th>docvecs</th>\n",
       "    </tr>\n",
       "  </thead>\n",
       "  <tbody>\n",
       "    <tr>\n",
       "      <th>0</th>\n",
       "      <td>0</td>\n",
       "      <td>10.0</td>\n",
       "      <td>brand new bedroom bath apartmentenjoy apartmen...</td>\n",
       "      <td>medium</td>\n",
       "      <td>[-0.0894624, 0.0398608, -0.0301156, 0.0530289,...</td>\n",
       "    </tr>\n",
       "    <tr>\n",
       "      <th>1</th>\n",
       "      <td>1</td>\n",
       "      <td>10000.0</td>\n",
       "      <td>NaN</td>\n",
       "      <td>low</td>\n",
       "      <td>[-0.00989012, 0.00795442, -0.00808452, 0.01144...</td>\n",
       "    </tr>\n",
       "    <tr>\n",
       "      <th>2</th>\n",
       "      <td>2</td>\n",
       "      <td>100004.0</td>\n",
       "      <td>top top west village location beautiful pre wa...</td>\n",
       "      <td>high</td>\n",
       "      <td>[-0.0491578, 0.0290913, 0.0248247, 0.0358007, ...</td>\n",
       "    </tr>\n",
       "    <tr>\n",
       "      <th>3</th>\n",
       "      <td>3</td>\n",
       "      <td>100007.0</td>\n",
       "      <td>building garden fitness room laundry room roof...</td>\n",
       "      <td>low</td>\n",
       "      <td>[-0.0338375, 0.0133059, 0.00771365, 0.0434318,...</td>\n",
       "    </tr>\n",
       "    <tr>\n",
       "      <th>4</th>\n",
       "      <td>4</td>\n",
       "      <td>100013.0</td>\n",
       "      <td>bedroom flex bedroom apartment rent available ...</td>\n",
       "      <td>low</td>\n",
       "      <td>[-0.0717796, 0.00993952, 0.0258335, 0.0218237,...</td>\n",
       "    </tr>\n",
       "  </tbody>\n",
       "</table>\n",
       "</div>"
      ],
      "text/plain": [
       "   Unnamed: 0  Apartment                                            cleaned  \\\n",
       "0           0       10.0  brand new bedroom bath apartmentenjoy apartmen...   \n",
       "1           1    10000.0                                                NaN   \n",
       "2           2   100004.0  top top west village location beautiful pre wa...   \n",
       "3           3   100007.0  building garden fitness room laundry room roof...   \n",
       "4           4   100013.0  bedroom flex bedroom apartment rent available ...   \n",
       "\n",
       "  Interest_Level                                            docvecs  \n",
       "0         medium  [-0.0894624, 0.0398608, -0.0301156, 0.0530289,...  \n",
       "1            low  [-0.00989012, 0.00795442, -0.00808452, 0.01144...  \n",
       "2           high  [-0.0491578, 0.0290913, 0.0248247, 0.0358007, ...  \n",
       "3            low  [-0.0338375, 0.0133059, 0.00771365, 0.0434318,...  \n",
       "4            low  [-0.0717796, 0.00993952, 0.0258335, 0.0218237,...  "
      ]
     },
     "execution_count": 91,
     "metadata": {},
     "output_type": "execute_result"
    }
   ],
   "source": [
    "test = pd.read_csv('trimDF.csv')\n",
    "test['docvecs'] = model.docvecs\n",
    "test.head()"
   ]
  },
  {
   "cell_type": "code",
   "execution_count": 89,
   "metadata": {
    "collapsed": false
   },
   "outputs": [
    {
     "data": {
      "text/plain": [
       "52800"
      ]
     },
     "execution_count": 89,
     "metadata": {},
     "output_type": "execute_result"
    }
   ],
   "source": [
    "len(test)"
   ]
  },
  {
   "cell_type": "code",
   "execution_count": 90,
   "metadata": {
    "collapsed": false
   },
   "outputs": [
    {
     "data": {
      "text/plain": [
       "52800"
      ]
     },
     "execution_count": 90,
     "metadata": {},
     "output_type": "execute_result"
    }
   ],
   "source": [
    "len(model.docvecs)"
   ]
  },
  {
   "cell_type": "code",
   "execution_count": 92,
   "metadata": {
    "collapsed": false
   },
   "outputs": [
    {
     "data": {
      "text/html": [
       "<div>\n",
       "<table border=\"1\" class=\"dataframe\">\n",
       "  <thead>\n",
       "    <tr style=\"text-align: right;\">\n",
       "      <th></th>\n",
       "      <th>Unnamed: 0</th>\n",
       "      <th>Apartment</th>\n",
       "      <th>cleaned</th>\n",
       "      <th>Interest_Level</th>\n",
       "      <th>docvecs</th>\n",
       "      <th>sum_vec</th>\n",
       "    </tr>\n",
       "  </thead>\n",
       "  <tbody>\n",
       "    <tr>\n",
       "      <th>0</th>\n",
       "      <td>0</td>\n",
       "      <td>10.0</td>\n",
       "      <td>brand new bedroom bath apartmentenjoy apartmen...</td>\n",
       "      <td>medium</td>\n",
       "      <td>[-0.0894624, 0.0398608, -0.0301156, 0.0530289,...</td>\n",
       "      <td>-0.660609</td>\n",
       "    </tr>\n",
       "    <tr>\n",
       "      <th>1</th>\n",
       "      <td>1</td>\n",
       "      <td>10000.0</td>\n",
       "      <td>NaN</td>\n",
       "      <td>low</td>\n",
       "      <td>[-0.00989012, 0.00795442, -0.00808452, 0.01144...</td>\n",
       "      <td>0.053875</td>\n",
       "    </tr>\n",
       "    <tr>\n",
       "      <th>2</th>\n",
       "      <td>2</td>\n",
       "      <td>100004.0</td>\n",
       "      <td>top top west village location beautiful pre wa...</td>\n",
       "      <td>high</td>\n",
       "      <td>[-0.0491578, 0.0290913, 0.0248247, 0.0358007, ...</td>\n",
       "      <td>0.183141</td>\n",
       "    </tr>\n",
       "    <tr>\n",
       "      <th>3</th>\n",
       "      <td>3</td>\n",
       "      <td>100007.0</td>\n",
       "      <td>building garden fitness room laundry room roof...</td>\n",
       "      <td>low</td>\n",
       "      <td>[-0.0338375, 0.0133059, 0.00771365, 0.0434318,...</td>\n",
       "      <td>-0.160693</td>\n",
       "    </tr>\n",
       "    <tr>\n",
       "      <th>4</th>\n",
       "      <td>4</td>\n",
       "      <td>100013.0</td>\n",
       "      <td>bedroom flex bedroom apartment rent available ...</td>\n",
       "      <td>low</td>\n",
       "      <td>[-0.0717796, 0.00993952, 0.0258335, 0.0218237,...</td>\n",
       "      <td>-0.610769</td>\n",
       "    </tr>\n",
       "  </tbody>\n",
       "</table>\n",
       "</div>"
      ],
      "text/plain": [
       "   Unnamed: 0  Apartment                                            cleaned  \\\n",
       "0           0       10.0  brand new bedroom bath apartmentenjoy apartmen...   \n",
       "1           1    10000.0                                                NaN   \n",
       "2           2   100004.0  top top west village location beautiful pre wa...   \n",
       "3           3   100007.0  building garden fitness room laundry room roof...   \n",
       "4           4   100013.0  bedroom flex bedroom apartment rent available ...   \n",
       "\n",
       "  Interest_Level                                            docvecs   sum_vec  \n",
       "0         medium  [-0.0894624, 0.0398608, -0.0301156, 0.0530289,... -0.660609  \n",
       "1            low  [-0.00989012, 0.00795442, -0.00808452, 0.01144...  0.053875  \n",
       "2           high  [-0.0491578, 0.0290913, 0.0248247, 0.0358007, ...  0.183141  \n",
       "3            low  [-0.0338375, 0.0133059, 0.00771365, 0.0434318,... -0.160693  \n",
       "4            low  [-0.0717796, 0.00993952, 0.0258335, 0.0218237,... -0.610769  "
      ]
     },
     "execution_count": 92,
     "metadata": {},
     "output_type": "execute_result"
    }
   ],
   "source": [
    "test['sum_vec'] = test['docvecs'].apply(lambda v: sum(v))\n",
    "test.head()"
   ]
  },
  {
   "cell_type": "code",
   "execution_count": 101,
   "metadata": {
    "collapsed": false
   },
   "outputs": [
    {
     "data": {
      "text/html": [
       "<div>\n",
       "<table border=\"1\" class=\"dataframe\">\n",
       "  <thead>\n",
       "    <tr style=\"text-align: right;\">\n",
       "      <th></th>\n",
       "      <th>Apartment</th>\n",
       "      <th>sum_vec</th>\n",
       "    </tr>\n",
       "  </thead>\n",
       "  <tbody>\n",
       "    <tr>\n",
       "      <th>0</th>\n",
       "      <td>10.0</td>\n",
       "      <td>-0.660609</td>\n",
       "    </tr>\n",
       "    <tr>\n",
       "      <th>1</th>\n",
       "      <td>10000.0</td>\n",
       "      <td>0.053875</td>\n",
       "    </tr>\n",
       "    <tr>\n",
       "      <th>2</th>\n",
       "      <td>100004.0</td>\n",
       "      <td>0.183141</td>\n",
       "    </tr>\n",
       "    <tr>\n",
       "      <th>3</th>\n",
       "      <td>100007.0</td>\n",
       "      <td>-0.160693</td>\n",
       "    </tr>\n",
       "    <tr>\n",
       "      <th>4</th>\n",
       "      <td>100013.0</td>\n",
       "      <td>-0.610769</td>\n",
       "    </tr>\n",
       "  </tbody>\n",
       "</table>\n",
       "</div>"
      ],
      "text/plain": [
       "   Apartment   sum_vec\n",
       "0       10.0 -0.660609\n",
       "1    10000.0  0.053875\n",
       "2   100004.0  0.183141\n",
       "3   100007.0 -0.160693\n",
       "4   100013.0 -0.610769"
      ]
     },
     "execution_count": 101,
     "metadata": {},
     "output_type": "execute_result"
    }
   ],
   "source": [
    "description_vec = test[['Apartment','sum_vec']]\n",
    "description_vec.head()"
   ]
  },
  {
   "cell_type": "code",
   "execution_count": 103,
   "metadata": {
    "collapsed": true
   },
   "outputs": [],
   "source": [
    "description_vec.to_csv('description_vec_v1.csv')"
   ]
  }
 ],
 "metadata": {
  "kernelspec": {
   "display_name": "Python 2",
   "language": "python",
   "name": "python2"
  },
  "language_info": {
   "codemirror_mode": {
    "name": "ipython",
    "version": 2
   },
   "file_extension": ".py",
   "mimetype": "text/x-python",
   "name": "python",
   "nbconvert_exporter": "python",
   "pygments_lexer": "ipython2",
   "version": "2.7.13"
  }
 },
 "nbformat": 4,
 "nbformat_minor": 2
}
